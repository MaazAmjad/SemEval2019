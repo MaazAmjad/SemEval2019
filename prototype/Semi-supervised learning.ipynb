{
 "cells": [
  {
   "cell_type": "markdown",
   "metadata": {},
   "source": [
    "### Semi-Supervised Learning"
   ]
  },
  {
   "cell_type": "markdown",
   "metadata": {},
   "source": [
    "#### First we test how label propagation works on labeled data, treating half or the labels as unknown"
   ]
  },
  {
   "cell_type": "code",
   "execution_count": 174,
   "metadata": {},
   "outputs": [],
   "source": [
    "import xml.sax\n",
    "import numpy as np\n",
    "import xml.etree.ElementTree as ET\n",
    "import random\n",
    "import nltk\n",
    "\n",
    "from sklearn.model_selection import StratifiedShuffleSplit\n",
    "from sklearn.metrics import accuracy_score, confusion_matrix\n",
    "from sklearn.preprocessing import StandardScaler\n",
    "from sklearn.feature_extraction.text import CountVectorizer\n",
    "from utils import customTokenize, cleanText, read_glove\n",
    "from sklearn.semi_supervised import LabelSpreading\n",
    "from sklearn.semi_supervised import LabelPropagation"
   ]
  },
  {
   "cell_type": "code",
   "execution_count": 87,
   "metadata": {
    "collapsed": true
   },
   "outputs": [],
   "source": [
    "def readFiles(textFile, labelFile, num=645, train=False):\n",
    "    '''\n",
    "    Read articles and labels. \n",
    "    When train is True, randomly sample num articles from the whole training set\n",
    "    '''\n",
    "    X, y = [], []\n",
    "    articleId = []\n",
    "    \n",
    "    with open(labelFile, encoding=\"utf-8\") as f:\n",
    "        tree = ET.parse(f)\n",
    "        root = tree.getroot()\n",
    "        for article in root.iter('article'):\n",
    "            articleId.append(article.attrib['id'])\n",
    "            if article.attrib['hyperpartisan'] == 'true':\n",
    "                y.append(1)\n",
    "            else:\n",
    "                y.append(0)\n",
    "    \n",
    "    if train:\n",
    "        random.seed(1)\n",
    "        indices = random.sample(range(600000), num)\n",
    "        y = np.asarray(y)[indices]\n",
    "        articleId = np.asarray(articleId)[indices]\n",
    "\n",
    "    with open (textFile, encoding = 'utf-8') as f:\n",
    "        for idx, line in enumerate(f):\n",
    "            if train:\n",
    "                if idx in indices:\n",
    "                    tmp = line.split('::')\n",
    "                    assert(tmp[0] in articleId)\n",
    "                    text = tmp[1] + ' ' + tmp[2]\n",
    "                    X.append(cleanText(text))\n",
    "            else:\n",
    "                tmp = line.split('::')\n",
    "                text = tmp[1] + ' ' + tmp[2]\n",
    "                X.append(cleanText(text))\n",
    "    \n",
    "    return np.asarray(X), np.asarray(y)"
   ]
  },
  {
   "cell_type": "code",
   "execution_count": 128,
   "metadata": {
    "collapsed": true
   },
   "outputs": [],
   "source": [
    "# process testset\n",
    "art_texts, art_labels = readFiles('../data/articles-training-byarticle.txt', '../data/ground-truth-training-byarticle.xml')\n",
    "\n",
    "# split into training and held-out test set with balanced class\n",
    "sss = StratifiedShuffleSplit(n_splits=1, test_size=0.5, random_state = 1)\n",
    "split_idx = list(sss.split(np.zeros(len(art_labels)), art_labels))[0]\n",
    "art_text = art_texts[split_idx[0]]\n",
    "art_label = art_labels[split_idx[0]]\n",
    "held_out_text  = art_texts[split_idx[1]]\n",
    "held_out_label = art_labels[split_idx[1]]"
   ]
  },
  {
   "cell_type": "markdown",
   "metadata": {},
   "source": [
    "#### Representation of text\n",
    "1. BOW / ngram\n",
    "2. GLOVE"
   ]
  },
  {
   "cell_type": "code",
   "execution_count": 166,
   "metadata": {
    "collapsed": true
   },
   "outputs": [],
   "source": [
    "bow = CountVectorizer(ngram_range=(1, 1), stop_words = nltk.corpus.stopwords.words('english'), min_df=2)\n",
    "bigram = CountVectorizer(ngram_range=(1, 2), stop_words = nltk.corpus.stopwords.words('english'), min_df=3)\n",
    "glove = read_glove(300)\n",
    "\n",
    "rep = {'BOW': bow, 'Bi-gram': bigram, 'glove': glove}"
   ]
  },
  {
   "cell_type": "code",
   "execution_count": null,
   "metadata": {
    "collapsed": true
   },
   "outputs": [],
   "source": [
    "def glove_fit(texts, word_num, glove):\n",
    "    X = np.zeros( (word_num, 300, len(texts)) )\n",
    "    for text_id, text in enumerate(texts):\n",
    "        words = customTokenize(text)\n",
    "        words = [w for w in words if w in glove.keys()]\n",
    "        for idx, word in enumerate(words):\n",
    "            if idx < word_num:\n",
    "                X[idx, :, text_id] = glove[word]\n",
    "    X = np.mean(X, 0).T\n",
    "    return X"
   ]
  },
  {
   "cell_type": "code",
   "execution_count": 180,
   "metadata": {
    "collapsed": true
   },
   "outputs": [],
   "source": [
    "trn = np.concatenate([art_text, held_out_text])\n",
    "trn_labels = np.concatenate([art_label, [-1]*len(held_out_text)])"
   ]
  },
  {
   "cell_type": "code",
   "execution_count": 181,
   "metadata": {},
   "outputs": [
    {
     "name": "stdout",
     "output_type": "stream",
     "text": [
      "(645, 10834)\n",
      "BOW: kernel: rbf; alpha: 0.200000, p: 0.100000 | acc= 0.715170.2\n",
      "BOW: kernel: rbf; alpha: 0.200000, p: 0.300000 | acc= 0.640867.2\n",
      "BOW: kernel: rbf; alpha: 0.200000, p: 0.500000 | acc= 0.606811.2\n",
      "BOW: kernel: rbf; alpha: 0.200000, p: 0.700000 | acc= 0.572755.2\n",
      "BOW: kernel: knn; alpha: 0.200000, p: 5.000000 | acc= 0.393189.2\n",
      "BOW: kernel: knn; alpha: 0.200000, p: 7.000000 | acc= 0.393189.2\n",
      "BOW: kernel: rbf; alpha: 0.500000, p: 0.100000 | acc= 0.377709.2\n",
      "BOW: kernel: rbf; alpha: 0.500000, p: 0.300000 | acc= 0.597523.2\n",
      "BOW: kernel: rbf; alpha: 0.500000, p: 0.500000 | acc= 0.625387.2\n",
      "BOW: kernel: rbf; alpha: 0.500000, p: 0.700000 | acc= 0.643963.2\n",
      "BOW: kernel: knn; alpha: 0.500000, p: 5.000000 | acc= 0.393189.2\n",
      "BOW: kernel: knn; alpha: 0.500000, p: 7.000000 | acc= 0.393189.2\n",
      "BOW: kernel: rbf; alpha: 0.800000, p: 0.100000 | acc= 0.377709.2\n",
      "BOW: kernel: rbf; alpha: 0.800000, p: 0.300000 | acc= 0.597523.2\n",
      "BOW: kernel: rbf; alpha: 0.800000, p: 0.500000 | acc= 0.625387.2\n",
      "BOW: kernel: rbf; alpha: 0.800000, p: 0.700000 | acc= 0.643963.2\n",
      "BOW: kernel: knn; alpha: 0.800000, p: 5.000000 | acc= 0.393189.2\n",
      "BOW: kernel: knn; alpha: 0.800000, p: 7.000000 | acc= 0.393189.2\n",
      "(645, 23865)\n",
      "Bi-gram: kernel: rbf; alpha: 0.200000, p: 0.100000 | acc= 0.696594.2\n",
      "Bi-gram: kernel: rbf; alpha: 0.200000, p: 0.300000 | acc= 0.619195.2\n",
      "Bi-gram: kernel: rbf; alpha: 0.200000, p: 0.500000 | acc= 0.575851.2\n",
      "Bi-gram: kernel: rbf; alpha: 0.200000, p: 0.700000 | acc= 0.551084.2\n",
      "Bi-gram: kernel: knn; alpha: 0.200000, p: 5.000000 | acc= 0.383901.2\n",
      "Bi-gram: kernel: knn; alpha: 0.200000, p: 7.000000 | acc= 0.374613.2\n",
      "Bi-gram: kernel: rbf; alpha: 0.500000, p: 0.100000 | acc= 0.578947.2\n",
      "Bi-gram: kernel: rbf; alpha: 0.500000, p: 0.300000 | acc= 0.640867.2\n",
      "Bi-gram: kernel: rbf; alpha: 0.500000, p: 0.500000 | acc= 0.640867.2\n",
      "Bi-gram: kernel: rbf; alpha: 0.500000, p: 0.700000 | acc= 0.631579.2\n",
      "Bi-gram: kernel: knn; alpha: 0.500000, p: 5.000000 | acc= 0.383901.2\n",
      "Bi-gram: kernel: knn; alpha: 0.500000, p: 7.000000 | acc= 0.374613.2\n",
      "Bi-gram: kernel: rbf; alpha: 0.800000, p: 0.100000 | acc= 0.578947.2\n",
      "Bi-gram: kernel: rbf; alpha: 0.800000, p: 0.300000 | acc= 0.640867.2\n",
      "Bi-gram: kernel: rbf; alpha: 0.800000, p: 0.500000 | acc= 0.640867.2\n",
      "Bi-gram: kernel: rbf; alpha: 0.800000, p: 0.700000 | acc= 0.631579.2\n",
      "Bi-gram: kernel: knn; alpha: 0.800000, p: 5.000000 | acc= 0.383901.2\n",
      "Bi-gram: kernel: knn; alpha: 0.800000, p: 7.000000 | acc= 0.374613.2\n",
      "(645, 300)\n",
      "glove: kernel: rbf; alpha: 0.200000, p: 0.100000 | acc= 0.631579.2\n",
      "glove: kernel: rbf; alpha: 0.200000, p: 0.300000 | acc= 0.631579.2\n",
      "glove: kernel: rbf; alpha: 0.200000, p: 0.500000 | acc= 0.637771.2\n",
      "glove: kernel: rbf; alpha: 0.200000, p: 0.700000 | acc= 0.693498.2\n",
      "glove: kernel: knn; alpha: 0.200000, p: 5.000000 | acc= 0.678019.2\n",
      "glove: kernel: knn; alpha: 0.200000, p: 7.000000 | acc= 0.690402.2\n",
      "glove: kernel: rbf; alpha: 0.500000, p: 0.100000 | acc= 0.696594.2\n",
      "glove: kernel: rbf; alpha: 0.500000, p: 0.300000 | acc= 0.693498.2\n",
      "glove: kernel: rbf; alpha: 0.500000, p: 0.500000 | acc= 0.690402.2\n",
      "glove: kernel: rbf; alpha: 0.500000, p: 0.700000 | acc= 0.681115.2\n",
      "glove: kernel: knn; alpha: 0.500000, p: 5.000000 | acc= 0.687307.2\n",
      "glove: kernel: knn; alpha: 0.500000, p: 7.000000 | acc= 0.705882.2\n",
      "glove: kernel: rbf; alpha: 0.800000, p: 0.100000 | acc= 0.699690.2\n",
      "glove: kernel: rbf; alpha: 0.800000, p: 0.300000 | acc= 0.699690.2\n",
      "glove: kernel: rbf; alpha: 0.800000, p: 0.500000 | acc= 0.674923.2\n",
      "glove: kernel: rbf; alpha: 0.800000, p: 0.700000 | acc= 0.671827.2\n",
      "glove: kernel: knn; alpha: 0.800000, p: 5.000000 | acc= 0.687307.2\n",
      "glove: kernel: knn; alpha: 0.800000, p: 7.000000 | acc= 0.693498.2\n"
     ]
    }
   ],
   "source": [
    "'''\n",
    "LabelSpreading(alpha=0.2, gamma=20, kernel='rbf', max_iter=30, n_neighbors=7, tol=0.001)\n",
    "\n",
    "* alpha: clamping\n",
    "* kernel: 'rbf' (gamma) or 'knn' (n_neighbors)\n",
    "'''\n",
    "\n",
    "import warnings\n",
    "warnings.filterwarnings('ignore')\n",
    "\n",
    "kernel = {'rbf':[0.1, 0.3, 0.5, 0.7], 'knn':[5,7]}\n",
    "alpha = [0.2,0.5,0.8]\n",
    "\n",
    "for r, re in rep.items():\n",
    "    if r !='glove':\n",
    "        trn_texts = re.fit_transform(trn).toarray()\n",
    "    else:\n",
    "        trn_texts = glove_fit(trn, 300, re)\n",
    "        \n",
    "    print(trn_texts.shape)\n",
    "    \n",
    "    for a in alpha:\n",
    "        for k, param in kernel.items():\n",
    "            for p in param:\n",
    "                if k == 'rbf':\n",
    "                    model = LabelSpreading(alpha=a, kernel = k, gamma=p)\n",
    "                else:\n",
    "                    trn_texts = StandardScaler().fit_transform(trn_texts)\n",
    "                    model = LabelSpreading(alpha=a, kernel = k, n_neighbors=p)\n",
    "                \n",
    "                model.fit(trn_texts, trn_labels)\n",
    "                pred = model.transduction_[len(art_label):]\n",
    "                acc = accuracy_score(held_out_label, pred)\n",
    "                print(\"%s: kernel: %s; alpha: %f, p: %f | acc= %f.2\" %(r,k,a,p,acc))"
   ]
  },
  {
   "cell_type": "markdown",
   "metadata": {},
   "source": [
    "### The highest achieved accuracy of label propagation is 0.715"
   ]
  },
  {
   "cell_type": "code",
   "execution_count": 214,
   "metadata": {},
   "outputs": [
    {
     "data": {
      "text/plain": [
       "0.7151702786377709"
      ]
     },
     "execution_count": 214,
     "metadata": {},
     "output_type": "execute_result"
    }
   ],
   "source": [
    "trn_texts = bow.fit_transform(trn).toarray()\n",
    "model = LabelSpreading(alpha=0.2, kernel = 'rbf', gamma=0.1)\n",
    "model.fit(trn_texts, trn_labels)\n",
    "pred = model.transduction_[len(art_label):]\n",
    "accuracy_score(held_out_label, pred)"
   ]
  },
  {
   "cell_type": "code",
   "execution_count": 215,
   "metadata": {},
   "outputs": [],
   "source": [
    "t = model.label_distributions_[len(art_label):]"
   ]
  },
  {
   "cell_type": "code",
   "execution_count": 219,
   "metadata": {},
   "outputs": [
    {
     "data": {
      "text/plain": [
       "0.7835051546391752"
      ]
     },
     "execution_count": 219,
     "metadata": {},
     "output_type": "execute_result"
    }
   ],
   "source": [
    "accuracy_score(held_out_label[np.where(t[:,0]>0.95)], pred[np.where(t[:,0]>0.95)] )"
   ]
  },
  {
   "cell_type": "code",
   "execution_count": 220,
   "metadata": {},
   "outputs": [
    {
     "data": {
      "text/plain": [
       "0.7"
      ]
     },
     "execution_count": 220,
     "metadata": {},
     "output_type": "execute_result"
    }
   ],
   "source": [
    "accuracy_score(held_out_label[np.where(t[:,1]>0.95)], pred[np.where(t[:,1]>0.95)] )"
   ]
  },
  {
   "cell_type": "markdown",
   "metadata": {},
   "source": [
    "Even if we only consider samples with high confidence (>0.95), the accuracy cannot reach 80%\n",
    "### Conclusion: The representation is not effective in separating the sample "
   ]
  },
  {
   "cell_type": "code",
   "execution_count": null,
   "metadata": {
    "collapsed": true
   },
   "outputs": [],
   "source": []
  }
 ],
 "metadata": {
  "kernelspec": {
   "display_name": "Python 3",
   "language": "python",
   "name": "python3"
  },
  "language_info": {
   "codemirror_mode": {
    "name": "ipython",
    "version": 3
   },
   "file_extension": ".py",
   "mimetype": "text/x-python",
   "name": "python",
   "nbconvert_exporter": "python",
   "pygments_lexer": "ipython3",
   "version": "3.6.2"
  }
 },
 "nbformat": 4,
 "nbformat_minor": 2
}
