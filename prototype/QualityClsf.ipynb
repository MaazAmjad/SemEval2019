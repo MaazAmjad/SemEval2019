{
 "cells": [
  {
   "cell_type": "markdown",
   "metadata": {},
   "source": [
    "### Build a classifier to classify which articles in the training set are similar to the test set"
   ]
  },
  {
   "cell_type": "code",
   "execution_count": 232,
   "metadata": {
    "collapsed": true
   },
   "outputs": [],
   "source": [
    "import xml.sax\n",
    "import numpy as np\n",
    "import xml.etree.ElementTree as ET\n",
    "import random\n",
    "import nltk\n",
    "from sklearn.linear_model import LogisticRegression\n",
    "from sklearn.model_selection import StratifiedShuffleSplit\n",
    "from sklearn.metrics import accuracy_score, confusion_matrix\n",
    "from sklearn.preprocessing import normalize\n",
    "from sklearn.feature_extraction.text import CountVectorizer\n",
    "from utils import customTokenize, cleanText, read_glove"
   ]
  },
  {
   "cell_type": "code",
   "execution_count": 251,
   "metadata": {
    "collapsed": true
   },
   "outputs": [],
   "source": [
    "def readFiles(textFile, labelFile, num=645, train=False):\n",
    "    X, y = [], []\n",
    "    articleId = []\n",
    "    \n",
    "    with open(labelFile, encoding=\"utf-8\") as f:\n",
    "        tree = ET.parse(f)\n",
    "        root = tree.getroot()\n",
    "        for article in root.iter('article'):\n",
    "            articleId.append(article.attrib['id'])\n",
    "            y.append(article.attrib['hyperpartisan'])\n",
    "    \n",
    "    if train:\n",
    "        random.seed(1)\n",
    "        indices = random.sample(range(600000), num)\n",
    "        y = np.asarray(y)[indices]\n",
    "        articleId = np.asarray(articleId)[indices]\n",
    "\n",
    "    with open (textFile, encoding = 'utf-8') as f:\n",
    "        for idx, line in enumerate(f):\n",
    "            if train:\n",
    "                if idx in indices:\n",
    "                    tmp = line.split('::')\n",
    "                    assert(tmp[0] in articleId)\n",
    "                    text = tmp[1] + ' ' + tmp[2]\n",
    "                    X.append(cleanText(text))\n",
    "            else:\n",
    "                tmp = line.split('::')\n",
    "                text = tmp[1] + ' ' + tmp[2]\n",
    "                X.append(cleanText(text))\n",
    "    \n",
    "    return np.asarray(X), np.asarray(y)"
   ]
  },
  {
   "cell_type": "code",
   "execution_count": 253,
   "metadata": {},
   "outputs": [],
   "source": [
    "# process testset\n",
    "art_texts, art_labels = readFiles('../data/articles-training-byarticle.txt', '../data/ground-truth-training-byarticle.xml')\n",
    "\n",
    "# split into training and held-out test set with balanced class\n",
    "sss = StratifiedShuffleSplit(n_splits=1, test_size=0.5, random_state = 1)\n",
    "split_idx = list(sss.split(np.zeros(len(art_labels)), art_labels))[0]\n",
    "art_text = art_texts[split_idx[0]]\n",
    "held_out_idx = split_idx[1]"
   ]
  },
  {
   "cell_type": "code",
   "execution_count": 257,
   "metadata": {},
   "outputs": [],
   "source": [
    "# random sample from the training set\n",
    "pub_label_file = '../data/ground-truth-training-bypublisher.xml'\n",
    "pub_text, pub_labels = readFiles('../data/articles-training-bypublisher.txt', pub_label_file, len(art_text), True)"
   ]
  },
  {
   "cell_type": "code",
   "execution_count": 262,
   "metadata": {},
   "outputs": [],
   "source": [
    "# assemble training data and labels for the quality classifier\n",
    "trn_texts = np.concatenate([art_text, pub_text])\n",
    "trn_labels = np.concatenate([[1]*len(art_text), [0] * len(pub_text)])"
   ]
  },
  {
   "cell_type": "code",
   "execution_count": 263,
   "metadata": {},
   "outputs": [],
   "source": [
    "# split into training and development set with balanced class\n",
    "sss = StratifiedShuffleSplit(n_splits=1, test_size=0.2, random_state = 1)\n",
    "split_idx = list(sss.split(np.zeros(len(trn_labels)), trn_labels))[0]\n",
    "trn_text = trn_texts[split_idx[0]]\n",
    "dev_text = trn_texts[split_idx[1]]\n",
    "trn_label = trn_labels[split_idx[0]]\n",
    "dev_label = trn_labels[split_idx[1]]"
   ]
  },
  {
   "cell_type": "code",
   "execution_count": 275,
   "metadata": {},
   "outputs": [],
   "source": [
    "# Count unigrams\n",
    "vectorizer = CountVectorizer(ngram_range=(1, 1), stop_words = nltk.corpus.stopwords.words('english'), min_df=2)\n",
    "trn = vectorizer.fit_transform(trn_text)\n",
    "dev = vectorizer.transform(dev_text)"
   ]
  },
  {
   "cell_type": "code",
   "execution_count": 276,
   "metadata": {},
   "outputs": [
    {
     "name": "stdout",
     "output_type": "stream",
     "text": [
      "0.001 Accuracy:  0.9281553398058252 0.8294573643410853\n",
      "0.01 Accuracy:  0.9844660194174757 0.8449612403100775\n",
      "0.1 Accuracy:  1.0 0.8217054263565892\n",
      "1 Accuracy:  1.0 0.8372093023255814\n",
      "10 Accuracy:  1.0 0.8372093023255814\n"
     ]
    }
   ],
   "source": [
    "# model training and select parameters\n",
    "cc = [0.001, 0.01, 0.1, 1, 10]\n",
    "for c in cc:\n",
    "    model = LogisticRegression(solver = 'lbfgs', C=c)\n",
    "    model.fit(trn, trn_label)\n",
    "    trn_pred = model.predict(trn) \n",
    "    result_trn = accuracy_score(trn_label, trn_pred)\n",
    "    dev_pred = model.predict(dev)\n",
    "    dev_pred2 = [model.decision_function(dev) > -2][0]\n",
    "    result_dev = accuracy_score(dev_label, dev_pred)\n",
    "    print(c, 'Accuracy: ', result_trn, result_dev)"
   ]
  },
  {
   "cell_type": "code",
   "execution_count": 296,
   "metadata": {},
   "outputs": [
    {
     "name": "stdout",
     "output_type": "stream",
     "text": [
      "0.01 Accuracy:  0.5009708737864078 0.49612403100775193\n",
      "0.1 Accuracy:  0.5009708737864078 0.49612403100775193\n",
      "1 Accuracy:  0.5572815533980583 0.5581395348837209\n",
      "10 Accuracy:  0.9689320388349515 0.6821705426356589\n",
      "100 Accuracy:  1.0 0.7131782945736435\n"
     ]
    }
   ],
   "source": [
    "from sklearn import svm\n",
    "from sklearn import preprocessing\n",
    "scaler = preprocessing.MaxAbsScaler().fit(trn)\n",
    "trn_trans = scaler.transform(trn)\n",
    "dev_trans = scaler.transform(dev)\n",
    "cc = [0.01, 0.1, 1, 10, 100]\n",
    "for c in cc:\n",
    "    model = svm.SVC(C = c, gamma='scale')\n",
    "    model.fit(trn_trans, trn_label)\n",
    "    trn_pred = model.predict(trn_trans) \n",
    "    result_trn = accuracy_score(trn_label, trn_pred)\n",
    "    dev_pred = model.predict(dev_trans)\n",
    "    result_dev = accuracy_score(dev_label, dev_pred)\n",
    "    print(c, 'Accuracy: ', result_trn, result_dev)"
   ]
  },
  {
   "cell_type": "code",
   "execution_count": 266,
   "metadata": {},
   "outputs": [
    {
     "data": {
      "text/plain": [
       "array([[50, 14],\n",
       "       [ 8, 57]], dtype=int64)"
      ]
     },
     "execution_count": 266,
     "metadata": {},
     "output_type": "execute_result"
    }
   ],
   "source": [
    "confusion_matrix(dev_label, dev_pred2)"
   ]
  },
  {
   "cell_type": "code",
   "execution_count": 267,
   "metadata": {},
   "outputs": [
    {
     "data": {
      "text/plain": [
       "LogisticRegression(C=0.01, class_weight=None, dual=False, fit_intercept=True,\n",
       "          intercept_scaling=1, max_iter=100, multi_class='warn',\n",
       "          n_jobs=None, penalty='l2', random_state=None, solver='lbfgs',\n",
       "          tol=0.0001, verbose=0, warm_start=False)"
      ]
     },
     "execution_count": 267,
     "metadata": {},
     "output_type": "execute_result"
    }
   ],
   "source": [
    "final_trn = np.concatenate([trn_text, dev_text])\n",
    "final_lab = np.concatenate([trn_label, dev_label])\n",
    "trn = vectorizer.fit_transform(final_trn)\n",
    "model = LogisticRegression(solver = 'lbfgs', C=0.01)\n",
    "model.fit(trn, final_lab)"
   ]
  },
  {
   "cell_type": "code",
   "execution_count": 271,
   "metadata": {},
   "outputs": [
    {
     "name": "stdout",
     "output_type": "stream",
     "text": [
      "0.9922480620155039\n",
      "[[64  0]\n",
      " [ 1 64]]\n"
     ]
    }
   ],
   "source": [
    "dev = vectorizer.transform(dev_text)\n",
    "pred = model.predict(dev)\n",
    "pred2 = [model.decision_function(dev) > -2][0]\n",
    "print(accuracy_score(dev_label, pred))\n",
    "print(confusion_matrix(dev_label, pred))"
   ]
  },
  {
   "cell_type": "code",
   "execution_count": 219,
   "metadata": {
    "collapsed": true
   },
   "outputs": [],
   "source": [
    "def predict(textFile):\n",
    "    def clean(text):\n",
    "        yield(cleanText(text))\n",
    "        \n",
    "    preds = []\n",
    "    with open (textFile, encoding = 'utf-8') as f:\n",
    "        for line in f:\n",
    "            tmp = line.split('::')\n",
    "            text = tmp[1] + ' ' + tmp[2]\n",
    "            X = vectorizer.transform(clean(text))\n",
    "            preds.append(model.decision_function(X))\n",
    "    return np.asarray(preds)"
   ]
  },
  {
   "cell_type": "code",
   "execution_count": 220,
   "metadata": {},
   "outputs": [],
   "source": [
    "preds = predict('../data/articles-training-bypublisher.txt')"
   ]
  },
  {
   "cell_type": "code",
   "execution_count": 247,
   "metadata": {},
   "outputs": [],
   "source": [
    "# sort confidence and take the top 10%\n",
    "ids = np.where(preds > 0)[0]"
   ]
  },
  {
   "cell_type": "code",
   "execution_count": 248,
   "metadata": {},
   "outputs": [
    {
     "name": "stdout",
     "output_type": "stream",
     "text": [
      "82480\n"
     ]
    }
   ],
   "source": [
    "print(len(ids))\n",
    "np.save('./remain', remained_id[0])"
   ]
  }
 ],
 "metadata": {
  "kernelspec": {
   "display_name": "Python 3",
   "language": "python",
   "name": "python3"
  },
  "language_info": {
   "codemirror_mode": {
    "name": "ipython",
    "version": 3
   },
   "file_extension": ".py",
   "mimetype": "text/x-python",
   "name": "python",
   "nbconvert_exporter": "python",
   "pygments_lexer": "ipython3",
   "version": "3.6.2"
  }
 },
 "nbformat": 4,
 "nbformat_minor": 2
}
