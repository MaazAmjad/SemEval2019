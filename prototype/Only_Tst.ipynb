{
 "cells": [
  {
   "cell_type": "code",
   "execution_count": 9,
   "metadata": {
    "collapsed": true
   },
   "outputs": [],
   "source": [
    "import xml.sax\n",
    "import numpy as np\n",
    "import xml.etree.ElementTree as ET\n",
    "from sklearn.linear_model import LogisticRegression\n",
    "from sklearn.model_selection import StratifiedShuffleSplit\n",
    "from sklearn.metrics import accuracy_score\n",
    "from sklearn.metrics import confusion_matrix\n",
    "from sklearn.preprocessing import normalize\n",
    "from sklearn.model_selection import cross_val_score\n",
    "from utils import customTokenize, cleanText, read_glove"
   ]
  },
  {
   "cell_type": "code",
   "execution_count": 6,
   "metadata": {
    "collapsed": true
   },
   "outputs": [],
   "source": [
    "def readFiles():\n",
    "    X, y = [], []\n",
    "\n",
    "    with open ('../data/articles-training-byarticle.txt', encoding = 'utf-8') as f:\n",
    "        for line in f:\n",
    "            tmp = line.split('::')\n",
    "            text = tmp[1] + ' ' + tmp[2]\n",
    "            X.append(cleanText(text))\n",
    "\n",
    "    with open(\"../data/ground-truth-training-byarticle.xml\", encoding=\"utf-8\") as f:\n",
    "        tree = ET.parse(f)\n",
    "        root = tree.getroot()\n",
    "        for article in root.iter('article'):\n",
    "            y.append(article.attrib['hyperpartisan'])\n",
    "    return X, y"
   ]
  },
  {
   "cell_type": "code",
   "execution_count": 7,
   "metadata": {
    "collapsed": true
   },
   "outputs": [],
   "source": [
    "# read in files and word vectors\n",
    "texts, labels = readFiles()\n",
    "y = np.asarray(labels)"
   ]
  },
  {
   "cell_type": "code",
   "execution_count": 44,
   "metadata": {
    "collapsed": true
   },
   "outputs": [],
   "source": [
    "# save 50% for tests\n",
    "sss = StratifiedShuffleSplit(n_splits=1, test_size=0.5, random_state = 1)\n",
    "split_idx = list(sss.split(np.zeros(len(y)), y))[0]\n",
    "train_texts = []\n",
    "test_texts = []\n",
    "for i in split_idx[0]:\n",
    "    train_texts.append(texts[i])\n",
    "y_train = y[split_idx[0]]\n",
    "for i in split_idx[1]:\n",
    "    test_texts.append(texts[i])\n",
    "y_test = y[split_idx[1]]\n",
    "    "
   ]
  },
  {
   "cell_type": "code",
   "execution_count": 38,
   "metadata": {},
   "outputs": [
    {
     "name": "stdout",
     "output_type": "stream",
     "text": [
      "Training for: glove_dim 100; words 100; C 0.010000\n",
      "Training for: glove_dim 100; words 100; C 0.100000\n",
      "Training for: glove_dim 100; words 100; C 1.000000\n",
      "Training for: glove_dim 100; words 100; C 10.000000\n",
      "Training for: glove_dim 100; words 100; C 100.000000\n"
     ]
    },
    {
     "name": "stderr",
     "output_type": "stream",
     "text": [
      "C:\\Program Files (x86)\\Microsoft Visual Studio\\Shared\\Anaconda3_64\\lib\\site-packages\\sklearn\\linear_model\\logistic.py:758: ConvergenceWarning: lbfgs failed to converge. Increase the number of iterations.\n",
      "  \"of iterations.\", ConvergenceWarning)\n"
     ]
    },
    {
     "name": "stdout",
     "output_type": "stream",
     "text": [
      "Training for: glove_dim 100; words 200; C 0.010000\n",
      "Training for: glove_dim 100; words 200; C 0.100000\n",
      "Training for: glove_dim 100; words 200; C 1.000000\n",
      "Training for: glove_dim 100; words 200; C 10.000000\n",
      "Training for: glove_dim 100; words 200; C 100.000000\n"
     ]
    },
    {
     "name": "stderr",
     "output_type": "stream",
     "text": [
      "C:\\Program Files (x86)\\Microsoft Visual Studio\\Shared\\Anaconda3_64\\lib\\site-packages\\sklearn\\linear_model\\logistic.py:758: ConvergenceWarning: lbfgs failed to converge. Increase the number of iterations.\n",
      "  \"of iterations.\", ConvergenceWarning)\n",
      "C:\\Program Files (x86)\\Microsoft Visual Studio\\Shared\\Anaconda3_64\\lib\\site-packages\\sklearn\\linear_model\\logistic.py:758: ConvergenceWarning: lbfgs failed to converge. Increase the number of iterations.\n",
      "  \"of iterations.\", ConvergenceWarning)\n"
     ]
    },
    {
     "name": "stdout",
     "output_type": "stream",
     "text": [
      "Training for: glove_dim 100; words 300; C 0.010000\n",
      "Training for: glove_dim 100; words 300; C 0.100000\n",
      "Training for: glove_dim 100; words 300; C 1.000000\n",
      "Training for: glove_dim 100; words 300; C 10.000000\n",
      "Training for: glove_dim 100; words 300; C 100.000000\n"
     ]
    },
    {
     "name": "stderr",
     "output_type": "stream",
     "text": [
      "C:\\Program Files (x86)\\Microsoft Visual Studio\\Shared\\Anaconda3_64\\lib\\site-packages\\sklearn\\linear_model\\logistic.py:758: ConvergenceWarning: lbfgs failed to converge. Increase the number of iterations.\n",
      "  \"of iterations.\", ConvergenceWarning)\n",
      "C:\\Program Files (x86)\\Microsoft Visual Studio\\Shared\\Anaconda3_64\\lib\\site-packages\\sklearn\\linear_model\\logistic.py:758: ConvergenceWarning: lbfgs failed to converge. Increase the number of iterations.\n",
      "  \"of iterations.\", ConvergenceWarning)\n",
      "C:\\Program Files (x86)\\Microsoft Visual Studio\\Shared\\Anaconda3_64\\lib\\site-packages\\sklearn\\linear_model\\logistic.py:758: ConvergenceWarning: lbfgs failed to converge. Increase the number of iterations.\n",
      "  \"of iterations.\", ConvergenceWarning)\n"
     ]
    },
    {
     "name": "stdout",
     "output_type": "stream",
     "text": [
      "Training for: glove_dim 200; words 100; C 0.010000\n",
      "Training for: glove_dim 200; words 100; C 0.100000\n",
      "Training for: glove_dim 200; words 100; C 1.000000\n",
      "Training for: glove_dim 200; words 100; C 10.000000\n",
      "Training for: glove_dim 200; words 100; C 100.000000\n"
     ]
    },
    {
     "name": "stderr",
     "output_type": "stream",
     "text": [
      "C:\\Program Files (x86)\\Microsoft Visual Studio\\Shared\\Anaconda3_64\\lib\\site-packages\\sklearn\\linear_model\\logistic.py:758: ConvergenceWarning: lbfgs failed to converge. Increase the number of iterations.\n",
      "  \"of iterations.\", ConvergenceWarning)\n",
      "C:\\Program Files (x86)\\Microsoft Visual Studio\\Shared\\Anaconda3_64\\lib\\site-packages\\sklearn\\linear_model\\logistic.py:758: ConvergenceWarning: lbfgs failed to converge. Increase the number of iterations.\n",
      "  \"of iterations.\", ConvergenceWarning)\n",
      "C:\\Program Files (x86)\\Microsoft Visual Studio\\Shared\\Anaconda3_64\\lib\\site-packages\\sklearn\\linear_model\\logistic.py:758: ConvergenceWarning: lbfgs failed to converge. Increase the number of iterations.\n",
      "  \"of iterations.\", ConvergenceWarning)\n",
      "C:\\Program Files (x86)\\Microsoft Visual Studio\\Shared\\Anaconda3_64\\lib\\site-packages\\sklearn\\linear_model\\logistic.py:758: ConvergenceWarning: lbfgs failed to converge. Increase the number of iterations.\n",
      "  \"of iterations.\", ConvergenceWarning)\n"
     ]
    },
    {
     "name": "stdout",
     "output_type": "stream",
     "text": [
      "Training for: glove_dim 200; words 200; C 0.010000\n",
      "Training for: glove_dim 200; words 200; C 0.100000\n",
      "Training for: glove_dim 200; words 200; C 1.000000\n",
      "Training for: glove_dim 200; words 200; C 10.000000\n",
      "Training for: glove_dim 200; words 200; C 100.000000\n"
     ]
    },
    {
     "name": "stderr",
     "output_type": "stream",
     "text": [
      "C:\\Program Files (x86)\\Microsoft Visual Studio\\Shared\\Anaconda3_64\\lib\\site-packages\\sklearn\\linear_model\\logistic.py:758: ConvergenceWarning: lbfgs failed to converge. Increase the number of iterations.\n",
      "  \"of iterations.\", ConvergenceWarning)\n",
      "C:\\Program Files (x86)\\Microsoft Visual Studio\\Shared\\Anaconda3_64\\lib\\site-packages\\sklearn\\linear_model\\logistic.py:758: ConvergenceWarning: lbfgs failed to converge. Increase the number of iterations.\n",
      "  \"of iterations.\", ConvergenceWarning)\n",
      "C:\\Program Files (x86)\\Microsoft Visual Studio\\Shared\\Anaconda3_64\\lib\\site-packages\\sklearn\\linear_model\\logistic.py:758: ConvergenceWarning: lbfgs failed to converge. Increase the number of iterations.\n",
      "  \"of iterations.\", ConvergenceWarning)\n"
     ]
    },
    {
     "name": "stdout",
     "output_type": "stream",
     "text": [
      "Training for: glove_dim 200; words 300; C 0.010000\n",
      "Training for: glove_dim 200; words 300; C 0.100000\n",
      "Training for: glove_dim 200; words 300; C 1.000000\n",
      "Training for: glove_dim 200; words 300; C 10.000000\n",
      "Training for: glove_dim 200; words 300; C 100.000000\n"
     ]
    },
    {
     "name": "stderr",
     "output_type": "stream",
     "text": [
      "C:\\Program Files (x86)\\Microsoft Visual Studio\\Shared\\Anaconda3_64\\lib\\site-packages\\sklearn\\linear_model\\logistic.py:758: ConvergenceWarning: lbfgs failed to converge. Increase the number of iterations.\n",
      "  \"of iterations.\", ConvergenceWarning)\n"
     ]
    },
    {
     "name": "stdout",
     "output_type": "stream",
     "text": [
      "Training for: glove_dim 300; words 100; C 0.010000\n",
      "Training for: glove_dim 300; words 100; C 0.100000\n",
      "Training for: glove_dim 300; words 100; C 1.000000\n",
      "Training for: glove_dim 300; words 100; C 10.000000\n",
      "Training for: glove_dim 300; words 100; C 100.000000\n"
     ]
    },
    {
     "name": "stderr",
     "output_type": "stream",
     "text": [
      "C:\\Program Files (x86)\\Microsoft Visual Studio\\Shared\\Anaconda3_64\\lib\\site-packages\\sklearn\\linear_model\\logistic.py:758: ConvergenceWarning: lbfgs failed to converge. Increase the number of iterations.\n",
      "  \"of iterations.\", ConvergenceWarning)\n",
      "C:\\Program Files (x86)\\Microsoft Visual Studio\\Shared\\Anaconda3_64\\lib\\site-packages\\sklearn\\linear_model\\logistic.py:758: ConvergenceWarning: lbfgs failed to converge. Increase the number of iterations.\n",
      "  \"of iterations.\", ConvergenceWarning)\n",
      "C:\\Program Files (x86)\\Microsoft Visual Studio\\Shared\\Anaconda3_64\\lib\\site-packages\\sklearn\\linear_model\\logistic.py:758: ConvergenceWarning: lbfgs failed to converge. Increase the number of iterations.\n",
      "  \"of iterations.\", ConvergenceWarning)\n",
      "C:\\Program Files (x86)\\Microsoft Visual Studio\\Shared\\Anaconda3_64\\lib\\site-packages\\sklearn\\linear_model\\logistic.py:758: ConvergenceWarning: lbfgs failed to converge. Increase the number of iterations.\n",
      "  \"of iterations.\", ConvergenceWarning)\n"
     ]
    },
    {
     "name": "stdout",
     "output_type": "stream",
     "text": [
      "Training for: glove_dim 300; words 200; C 0.010000\n",
      "Training for: glove_dim 300; words 200; C 0.100000\n",
      "Training for: glove_dim 300; words 200; C 1.000000\n",
      "Training for: glove_dim 300; words 200; C 10.000000\n",
      "Training for: glove_dim 300; words 200; C 100.000000\n"
     ]
    },
    {
     "name": "stderr",
     "output_type": "stream",
     "text": [
      "C:\\Program Files (x86)\\Microsoft Visual Studio\\Shared\\Anaconda3_64\\lib\\site-packages\\sklearn\\linear_model\\logistic.py:758: ConvergenceWarning: lbfgs failed to converge. Increase the number of iterations.\n",
      "  \"of iterations.\", ConvergenceWarning)\n",
      "C:\\Program Files (x86)\\Microsoft Visual Studio\\Shared\\Anaconda3_64\\lib\\site-packages\\sklearn\\linear_model\\logistic.py:758: ConvergenceWarning: lbfgs failed to converge. Increase the number of iterations.\n",
      "  \"of iterations.\", ConvergenceWarning)\n",
      "C:\\Program Files (x86)\\Microsoft Visual Studio\\Shared\\Anaconda3_64\\lib\\site-packages\\sklearn\\linear_model\\logistic.py:758: ConvergenceWarning: lbfgs failed to converge. Increase the number of iterations.\n",
      "  \"of iterations.\", ConvergenceWarning)\n",
      "C:\\Program Files (x86)\\Microsoft Visual Studio\\Shared\\Anaconda3_64\\lib\\site-packages\\sklearn\\linear_model\\logistic.py:758: ConvergenceWarning: lbfgs failed to converge. Increase the number of iterations.\n",
      "  \"of iterations.\", ConvergenceWarning)\n"
     ]
    },
    {
     "name": "stdout",
     "output_type": "stream",
     "text": [
      "Training for: glove_dim 300; words 300; C 0.010000\n",
      "Training for: glove_dim 300; words 300; C 0.100000\n",
      "Training for: glove_dim 300; words 300; C 1.000000\n",
      "Training for: glove_dim 300; words 300; C 10.000000\n",
      "Training for: glove_dim 300; words 300; C 100.000000\n"
     ]
    },
    {
     "name": "stderr",
     "output_type": "stream",
     "text": [
      "C:\\Program Files (x86)\\Microsoft Visual Studio\\Shared\\Anaconda3_64\\lib\\site-packages\\sklearn\\linear_model\\logistic.py:758: ConvergenceWarning: lbfgs failed to converge. Increase the number of iterations.\n",
      "  \"of iterations.\", ConvergenceWarning)\n",
      "C:\\Program Files (x86)\\Microsoft Visual Studio\\Shared\\Anaconda3_64\\lib\\site-packages\\sklearn\\linear_model\\logistic.py:758: ConvergenceWarning: lbfgs failed to converge. Increase the number of iterations.\n",
      "  \"of iterations.\", ConvergenceWarning)\n",
      "C:\\Program Files (x86)\\Microsoft Visual Studio\\Shared\\Anaconda3_64\\lib\\site-packages\\sklearn\\linear_model\\logistic.py:758: ConvergenceWarning: lbfgs failed to converge. Increase the number of iterations.\n",
      "  \"of iterations.\", ConvergenceWarning)\n",
      "C:\\Program Files (x86)\\Microsoft Visual Studio\\Shared\\Anaconda3_64\\lib\\site-packages\\sklearn\\linear_model\\logistic.py:758: ConvergenceWarning: lbfgs failed to converge. Increase the number of iterations.\n",
      "  \"of iterations.\", ConvergenceWarning)\n"
     ]
    }
   ],
   "source": [
    "words_to_use = [100, 200, 300]\n",
    "glove_dim = [100, 200, 300]\n",
    "C = [0.01, 0.1, 1, 10, 100]\n",
    "\n",
    "result_dev = np.zeros((len(glove_dim), len(words_to_use), len(C)))\n",
    "\n",
    "for id_g, g in enumerate(glove_dim):\n",
    "    glove = read_glove(g)\n",
    "    for id_w, num_words in enumerate(words_to_use):\n",
    "        X = np.zeros( (num_words, g, len(train_texts)) )\n",
    "        for text_id, text in enumerate(train_texts):\n",
    "            words = customTokenize(text)\n",
    "            words = [w for w in words if w in glove.keys()]\n",
    "            for idx, word in enumerate(words):\n",
    "                if idx < num_words:\n",
    "                    X[idx, :, text_id] = glove[word]\n",
    "        X = np.mean(X, 0).T\n",
    "        X_train = normalize(X)\n",
    "        for id_c, c in enumerate(C):\n",
    "            print('Training for: glove_dim %i; words %i; C %f' %(g,num_words,c))\n",
    "            model = LogisticRegression(solver = 'lbfgs', C = c)\n",
    "            result_dev[id_g, id_w, id_c] = np.mean(cross_val_score(model, X_train, y_train, cv=10))\n",
    "    "
   ]
  },
  {
   "cell_type": "code",
   "execution_count": 41,
   "metadata": {},
   "outputs": [
    {
     "data": {
      "image/png": "[encoded data removed]",
      "text/plain": [
       "<matplotlib.figure.Figure at 0x1e94ed960b8>"
      ]
     },
     "metadata": {},
     "output_type": "display_data"
    }
   ],
   "source": [
    "%matplotlib inline\n",
    "import matplotlib.pyplot as plt\n",
    "\n",
    "plt.rcParams['figure.figsize'] = [10, 5]\n",
    "plt.subplot(131)\n",
    "for i in range(3):\n",
    "    plt.plot(np.log(C), result_dev[i, 0,:])\n",
    "plt.title('Dev accuracy')\n",
    "plt.legend(['glove100', 'glove200', 'glove300'])\n",
    "\n",
    "plt.subplot(132)\n",
    "for i in range(3):\n",
    "    plt.plot(np.log(C), result_dev[i,1,:])\n",
    "plt.title('Dev accuracy')\n",
    "plt.legend(['glove100', 'glove200', 'glove300'])\n",
    "\n",
    "plt.subplot(133)\n",
    "for i in range(3):\n",
    "    plt.plot(np.log(C), result_dev[i,2,:])\n",
    "plt.title('Dev accuracy')\n",
    "plt.legend(['glove100', 'glove200', 'glove300'])\n",
    "    \n",
    "plt.show()"
   ]
  },
  {
   "cell_type": "code",
   "execution_count": 42,
   "metadata": {},
   "outputs": [
    {
     "name": "stdout",
     "output_type": "stream",
     "text": [
      "Best for Dev:  (0, 2, 3)\n"
     ]
    }
   ],
   "source": [
    "best_param =  np.unravel_index(np.argmax(result_dev), result_dev.shape)\n",
    "print('Best for Dev: ', best_param)"
   ]
  },
  {
   "cell_type": "code",
   "execution_count": 48,
   "metadata": {},
   "outputs": [
    {
     "data": {
      "text/plain": [
       "array([[[0.63042522, 0.63042522, 0.69284274, 0.72021628, 0.68972385],\n",
       "        [0.63042522, 0.63042522, 0.71160496, 0.74541178, 0.70829668],\n",
       "        [0.63042522, 0.63042522, 0.71150415, 0.76103678, 0.73311339]],\n",
       "\n",
       "       [[0.63042522, 0.63042522, 0.70866935, 0.73271628, 0.68346774],\n",
       "        [0.63042522, 0.63042522, 0.71160496, 0.74228678, 0.71140946],\n",
       "        [0.63042522, 0.63042522, 0.72078446, 0.75156708, 0.72987537]],\n",
       "\n",
       "       [[0.63042522, 0.63042522, 0.72401026, 0.74824658, 0.69276026],\n",
       "        [0.63042522, 0.63042522, 0.73963526, 0.73613148, 0.70866935],\n",
       "        [0.63042522, 0.63042522, 0.74550037, 0.75781097, 0.70837915]]])"
      ]
     },
     "execution_count": 48,
     "metadata": {},
     "output_type": "execute_result"
    }
   ],
   "source": [
    "result_dev"
   ]
  },
  {
   "cell_type": "code",
   "execution_count": 45,
   "metadata": {},
   "outputs": [
    {
     "name": "stdout",
     "output_type": "stream",
     "text": [
      "Test accuracy:  0.7275541795665634\n"
     ]
    },
    {
     "data": {
      "text/plain": [
       "array([[165,  39],\n",
       "       [ 49,  70]], dtype=int64)"
      ]
     },
     "execution_count": 45,
     "metadata": {},
     "output_type": "execute_result"
    }
   ],
   "source": [
    "dim = glove_dim[best_param[0]]\n",
    "num_words = words_to_use[best_param[1]]\n",
    "glove = read_glove(dim)\n",
    "\n",
    "X = np.zeros((num_words, dim, len(texts)))\n",
    "for text_id, text in enumerate(texts):\n",
    "    words = customTokenize(text)\n",
    "    words = [w for w in words if w in glove.keys()]\n",
    "    for idx, word in enumerate(words):\n",
    "        if idx < num_words:\n",
    "            X[idx, :, text_id] = glove[word]\n",
    "X = np.mean(X, 0).T\n",
    "X_train = normalize(X[split_idx[0]])\n",
    "X_test = normalize(X[split_idx[1]])\n",
    "\n",
    "model = LogisticRegression(solver = 'lbfgs', C=C[best_param[2]])\n",
    "model.fit(X_train, y_train)\n",
    "tst_pred = model.predict(X_test)\n",
    "print('Test accuracy: ', accuracy_score(y_test, tst_pred))\n",
    "confusion_matrix(y_test, tst_pred)"
   ]
  }
 ],
 "metadata": {
  "kernelspec": {
   "display_name": "Python 3",
   "language": "python",
   "name": "python3"
  },
  "language_info": {
   "codemirror_mode": {
    "name": "ipython",
    "version": 3
   },
   "file_extension": ".py",
   "mimetype": "text/x-python",
   "name": "python",
   "nbconvert_exporter": "python",
   "pygments_lexer": "ipython3",
   "version": "3.6.2"
  }
 },
 "nbformat": 4,
 "nbformat_minor": 2
}
