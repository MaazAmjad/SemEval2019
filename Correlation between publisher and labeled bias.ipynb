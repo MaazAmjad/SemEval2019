{
 "cells": [
  {
   "cell_type": "markdown",
   "metadata": {},
   "source": [
    "#### In this notebook we analyze the correlation of publisher bias and article bias"
   ]
  },
  {
   "cell_type": "code",
   "execution_count": 91,
   "metadata": {
    "collapsed": true
   },
   "outputs": [],
   "source": [
    "import xml.sax\n",
    "import collections\n",
    "import matplotlib.pyplot as plt\n",
    "import numpy as np\n",
    "from utils import fixedTestSplit\n",
    "\n",
    "class GroundTruthHandler(xml.sax.ContentHandler):\n",
    "    def __init__(self, label, sources, urls):\n",
    "        xml.sax.ContentHandler.__init__(self)\n",
    "        self.urls = urls\n",
    "        self.label = label\n",
    "        self.sources = sources\n",
    "\n",
    "    def startElement(self, name, attrs):\n",
    "        if name == \"article\":\n",
    "            articleId = attrs.getValue(\"id\")\n",
    "            hyperpartisan = attrs.getValue(\"hyperpartisan\")\n",
    "            self.label.append(hyperpartisan)\n",
    "            \n",
    "            url = attrs.getValue(\"url\")\n",
    "            # parse url\n",
    "            url = '/'.join(url.split('/')[:3])\n",
    "            \n",
    "            self.sources.append(url)\n",
    "            if url in self.urls.keys():\n",
    "                self.urls[url].append(hyperpartisan)\n",
    "            else:\n",
    "                self.urls[url] = [hyperpartisan]\n",
    "                \n",
    "                \n",
    "def readFiles(labelFile):\n",
    "    y, sources = [], []\n",
    "    urls = {}\n",
    "    with open(labelFile) as labelFile:\n",
    "        xml.sax.parse(labelFile, GroundTruthHandler(y, sources, urls))\n",
    "             \n",
    "    return np.asarray(y), np.asarray(sources), urls\n",
    "                \n",
    "def count(label):\n",
    "    return collections.Counter(label)"
   ]
  },
  {
   "cell_type": "code",
   "execution_count": 77,
   "metadata": {
    "collapsed": true
   },
   "outputs": [],
   "source": [
    "# manually check the leaning of the publisher through https://mediabiasfactcheck.com/\n",
    "\n",
    "bias2Url = {\n",
    "    'EL':['http://www.trueactivist.com',],\n",
    "    'L':[\"https://www.salon.com\", 'http://www.gq.com', 'https://www.rawstory.com', 'https://www.opednews.com', 'http://people.com'],\n",
    "    'LC':['http://www.cbsnews.com', 'http://heavy.com', 'http://www.nytimes.com', 'http://www.rollingstone.com'],\n",
    "    'C': ['http://www.snopes.com', 'http://www.nfl.com'],\n",
    "    'RC':['http://nypost.com', 'https://www.realclearpolitics.com', 'https://www.circa.com'],\n",
    "    'R':['https://pjmedia.com', 'http://www.express.co.uk','http://opslens.com','http://insider.foxnews.com', 'http://www.foxnews.com', 'http://www.washingtonexaminer.com', 'http://www.bizpacreview.com', 'https://bearingarms.com'],\n",
    "    'ER':['http://www.thegatewaypundit.com',  \"http://www.dcclothesline.com\"]}\n",
    "\n",
    "url2Bias = {}\n",
    "for i,j in bias2Url.items():\n",
    "    for url in j:\n",
    "        url2Bias[url] = i "
   ]
  },
  {
   "cell_type": "code",
   "execution_count": 92,
   "metadata": {},
   "outputs": [],
   "source": [
    "yTst = \"C:/Users/sharo/Documents/SemEval2019/data/ground-truth-training-byarticle.xml\"\n",
    "labels, sources, urls = readFiles(yTst)\n",
    "id1, id2 = fixedTestSplit(labels)"
   ]
  },
  {
   "cell_type": "code",
   "execution_count": 89,
   "metadata": {},
   "outputs": [
    {
     "name": "stdout",
     "output_type": "stream",
     "text": [
      "====================EL====================\n",
      "http://www.trueactivist.com: 62.50 (5/8)\n",
      "====================L====================\n",
      "https://www.salon.com: 100.00 (8/8)\n",
      "http://www.gq.com: 60.00 (3/5)\n",
      "https://www.rawstory.com: 40.00 (2/5)\n",
      "https://www.opednews.com: 100.00 (7/7)\n",
      "http://people.com: 20.00 (1/5)\n",
      "====================LC====================\n",
      "http://www.cbsnews.com: 11.11 (3/27)\n",
      "http://heavy.com: 7.69 (1/13)\n",
      "http://www.nytimes.com: 30.00 (3/10)\n",
      "http://www.rollingstone.com: 75.00 (3/4)\n",
      "====================C====================\n",
      "http://www.snopes.com: 8.33 (1/12)\n",
      "http://www.nfl.com: 0.00 (0/8)\n",
      "====================RC====================\n",
      "http://nypost.com: 66.67 (10/15)\n",
      "https://www.realclearpolitics.com: 92.86 (13/14)\n",
      "https://www.circa.com: 12.50 (3/24)\n",
      "====================R====================\n",
      "https://pjmedia.com: 100.00 (6/6)\n",
      "http://www.express.co.uk: 36.84 (7/19)\n",
      "http://opslens.com: 100.00 (14/14)\n",
      "http://insider.foxnews.com: 27.27 (3/11)\n",
      "http://www.foxnews.com: 50.00 (3/6)\n",
      "http://www.washingtonexaminer.com: 57.14 (4/7)\n",
      "http://www.bizpacreview.com: 40.00 (2/5)\n",
      "https://bearingarms.com: 66.67 (4/6)\n",
      "====================ER====================\n",
      "http://www.thegatewaypundit.com: 94.44 (17/18)\n",
      "http://www.dcclothesline.com: 85.71 (6/7)\n"
     ]
    }
   ],
   "source": [
    "aggr = collections.OrderedDict()\n",
    "for bias in bias2Url.keys():\n",
    "    bias_total = 0\n",
    "    bias_percent = 0\n",
    "    bias_count = 0\n",
    "    print(\"=\"*20 + bias + \"=\"*20)\n",
    "    for url in bias2Url[bias]:\n",
    "        if url in urls.keys():\n",
    "            biased = count(urls[url])['true']\n",
    "            unbiased = count(urls[url])['false']\n",
    "            total = biased + unbiased\n",
    "            percent = 100* biased / total\n",
    "            print(\"%s: %0.2f (%i/%i)\" %(url, percent, biased, total))\n",
    "            bias_total += total\n",
    "            bias_percent += percent\n",
    "            bias_count += 1\n",
    "            \n",
    "    aggr[bias] = bias_percent / bias_count"
   ]
  },
  {
   "cell_type": "code",
   "execution_count": 90,
   "metadata": {},
   "outputs": [
    {
     "data": {
      "text/plain": [
       "OrderedDict([('EL', 62.5),\n",
       "             ('L', 64.0),\n",
       "             ('LC', 30.950854700854702),\n",
       "             ('C', 4.166666666666667),\n",
       "             ('RC', 57.34126984126984),\n",
       "             ('R', 59.74054454317613),\n",
       "             ('ER', 90.07936507936508)])"
      ]
     },
     "execution_count": 90,
     "metadata": {},
     "output_type": "execute_result"
    }
   ],
   "source": [
    "aggr"
   ]
  },
  {
   "cell_type": "code",
   "execution_count": 75,
   "metadata": {},
   "outputs": [
    {
     "data": {
      "image/png": "[encoded data removed]",
      "text/plain": [
       "<matplotlib.figure.Figure at 0x23edadff470>"
      ]
     },
     "metadata": {},
     "output_type": "display_data"
    }
   ],
   "source": [
    "plt.bar(range(7), aggr.values(), tick_label=aggr.keys())\n",
    "plt.title(\"Percentage of hyperpartisan articles by bias\")\n",
    "plt.show()"
   ]
  },
  {
   "cell_type": "markdown",
   "metadata": {},
   "source": [
    "### Error analysis"
   ]
  },
  {
   "cell_type": "code",
   "execution_count": 94,
   "metadata": {
    "collapsed": true
   },
   "outputs": [],
   "source": [
    "def errorAnalysis(gt, pred, sources):\n",
    "    \n",
    "    bias2Url = {\n",
    "    'EL':['http://www.trueactivist.com',],\n",
    "    'L':[\"https://www.salon.com\", 'http://www.gq.com', 'https://www.rawstory.com', 'https://www.opednews.com', 'http://people.com'],\n",
    "    'LC':['http://www.cbsnews.com', 'http://heavy.com', 'http://www.nytimes.com', 'http://www.rollingstone.com'],\n",
    "    'C': ['http://www.snopes.com', 'http://www.nfl.com'],\n",
    "    'RC':['http://nypost.com', 'https://www.realclearpolitics.com', 'https://www.circa.com'],\n",
    "    'R':['https://pjmedia.com', 'http://www.express.co.uk','http://opslens.com','http://insider.foxnews.com', 'http://www.foxnews.com', 'http://www.washingtonexaminer.com', 'http://www.bizpacreview.com', 'https://bearingarms.com'],\n",
    "    'ER':['http://www.thegatewaypundit.com',  \"http://www.dcclothesline.com\"]}\n",
    "\n",
    "    url2Bias = {}\n",
    "    for i,j in bias2Url.items():\n",
    "        for url in j:\n",
    "            url2Bias[url] = i \n",
    "    \n",
    "    # FP and FN\n",
    "    b = []\n",
    "    counts = []\n",
    "    t = []\n",
    "    fnIdx = np.intersect1d(np.where(gt == 'true')[0], (np.where(pred == 'false')[0]))\n",
    "    fpIdx = np.intersect1d(np.where(gt == 'false')[0], (np.where(pred == 'true')[0]))\n",
    "    error = collections.Counter([url2Bias[s] for s in sources[np.concatenate((fnIdx, fpIdx))] if s in url2Bias.keys()])\n",
    "    total = collections.Counter([url2Bias[s] for s in sources if s in url2Bias.keys()])\n",
    "    for bias in bias2Url.keys():\n",
    "        b.append(bias)\n",
    "        counts.append(error[bias]/total[bias])\n",
    "        t.append(total[bias])\n",
    "        print(\"%s: %0.2f | %i\" %(bias, error[bias]/total[bias], total[bias]))\n",
    "    return b, counts"
   ]
  },
  {
   "cell_type": "code",
   "execution_count": 84,
   "metadata": {},
   "outputs": [],
   "source": [
    "tfidf_pred = np.load(\"tfidf_pred.npy\")\n",
    "glove_pred = np.load(\"glove_pred_svm.npy\")\n",
    "doc2vec_pred = np.load(\"doc2vec_pred_svm.npy\")"
   ]
  },
  {
   "cell_type": "code",
   "execution_count": 95,
   "metadata": {},
   "outputs": [
    {
     "name": "stdout",
     "output_type": "stream",
     "text": [
      "EL: 1.00 | 2\n",
      "L: 0.19 | 16\n",
      "LC: 0.17 | 29\n",
      "C: 0.22 | 9\n",
      "RC: 0.16 | 31\n",
      "R: 0.32 | 34\n",
      "ER: 0.45 | 11\n",
      "EL: 0.50 | 2\n",
      "L: 0.25 | 16\n",
      "LC: 0.17 | 29\n",
      "C: 0.11 | 9\n",
      "RC: 0.10 | 31\n",
      "R: 0.35 | 34\n",
      "ER: 0.45 | 11\n",
      "EL: 0.50 | 2\n",
      "L: 0.31 | 16\n",
      "LC: 0.14 | 29\n",
      "C: 0.00 | 9\n",
      "RC: 0.16 | 31\n",
      "R: 0.26 | 34\n",
      "ER: 0.27 | 11\n"
     ]
    }
   ],
   "source": [
    "b1, count1= errorAnalysis(labels[id2], tfidf_pred, sources[id2])\n",
    "b2, count2= errorAnalysis(labels[id2], glove_pred, sources[id2])\n",
    "b3, count3= errorAnalysis(labels[id2], doc2vec_pred, sources[id2])"
   ]
  },
  {
   "cell_type": "code",
   "execution_count": 102,
   "metadata": {},
   "outputs": [
    {
     "data": {
      "image/png": "[encoded data removed]",
      "text/plain": [
       "<matplotlib.figure.Figure at 0x23ee0c9e550>"
      ]
     },
     "metadata": {},
     "output_type": "display_data"
    }
   ],
   "source": [
    "x1 = np.array(range(7))-0.2\n",
    "x2 = np.array(range(7))\n",
    "x3 = np.array(range(7))+0.2\n",
    "plt.bar(x1, count1, width = 0.2)\n",
    "plt.bar(x2, count2, width = 0.2, tick_label=b1)\n",
    "plt.bar(x3, count3, width = 0.2)\n",
    "plt.legend(['tfidf', 'glove', 'doc2vec'])\n",
    "plt.show()"
   ]
  },
  {
   "cell_type": "code",
   "execution_count": null,
   "metadata": {
    "collapsed": true
   },
   "outputs": [],
   "source": []
  }
 ],
 "metadata": {
  "kernelspec": {
   "display_name": "Python 3",
   "language": "python",
   "name": "python3"
  },
  "language_info": {
   "codemirror_mode": {
    "name": "ipython",
    "version": 3
   },
   "file_extension": ".py",
   "mimetype": "text/x-python",
   "name": "python",
   "nbconvert_exporter": "python",
   "pygments_lexer": "ipython3",
   "version": "3.6.2"
  }
 },
 "nbformat": 4,
 "nbformat_minor": 2
}
