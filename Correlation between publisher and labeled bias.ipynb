{
 "cells": [
  {
   "cell_type": "code",
   "execution_count": 47,
   "metadata": {
    "collapsed": true
   },
   "outputs": [],
   "source": [
    "import xml.sax\n",
    "\n",
    "class GroundTruthHandler(xml.sax.ContentHandler):\n",
    "    def __init__(self, urls):\n",
    "        xml.sax.ContentHandler.__init__(self)\n",
    "        self.urls = urls\n",
    "\n",
    "    def startElement(self, name, attrs):\n",
    "        if name == \"article\":\n",
    "            articleId = attrs.getValue(\"id\")\n",
    "            hyperpartisan = attrs.getValue(\"hyperpartisan\")\n",
    "            url = attrs.getValue(\"url\")\n",
    "            # parse url\n",
    "            url = '/'.join(url.split('/')[:3])\n",
    "            if url in self.urls.keys():\n",
    "                self.urls[url].append(hyperpartisan)\n",
    "            else:\n",
    "                self.urls[url] = [hyperpartisan]"
   ]
  },
  {
   "cell_type": "code",
   "execution_count": 48,
   "metadata": {},
   "outputs": [],
   "source": [
    "urls = {}\n",
    "yTst = \"data/ground-truth-training-byarticle.xml\"\n",
    "with open(yTst) as f:\n",
    "    xml.sax.parse(f, GroundTruthHandler(urls))"
   ]
  },
  {
   "cell_type": "code",
   "execution_count": 49,
   "metadata": {},
   "outputs": [],
   "source": [
    "import collections\n",
    "def count(label):\n",
    "    return collections.Counter(j)"
   ]
  },
  {
   "cell_type": "code",
   "execution_count": 50,
   "metadata": {},
   "outputs": [],
   "source": [
    "dct = {}\n",
    "for i, j in urls.items():\n",
    "    if len(j) > 3:\n",
    "        dct[i] = 100* count(j)['true'] /(count(j)['true'] + count(j)['false'])"
   ]
  },
  {
   "cell_type": "code",
   "execution_count": 51,
   "metadata": {},
   "outputs": [],
   "source": [
    "url_dict = {\n",
    "'left-center': ['http://www.cbsnews.com', 'http://heavy.com', 'http://www.nytimes.com'],\n",
    "'right-center': ['http://nypost.com'],\n",
    "'center': ['http://www.snopes.com','https://www.realclearpolitics.com','https://www.circa.com'],\n",
    "'right':['https://pjmedia.com', 'http://www.express.co.uk','http://opslens.com','http://insider.foxnews.com', 'http://www.foxnews.com', 'http://www.washingtonexaminer.com'],\n",
    "'left':[\"https://www.salon.com\", 'http://www.gq.com'],\n",
    "'extreme':['http://www.thegatewaypundit.com', 'http://www.trueactivist.com', \"http://www.dcclothesline.com\", 'https://bearingarms.com']}"
   ]
  },
  {
   "cell_type": "code",
   "execution_count": 52,
   "metadata": {},
   "outputs": [
    {
     "name": "stdout",
     "output_type": "stream",
     "text": [
      "====================left-center====================\n",
      "http://www.cbsnews.com 11.11111111111111\n",
      "http://heavy.com 7.6923076923076925\n",
      "http://www.nytimes.com 30.0\n",
      "====================right-center====================\n",
      "http://nypost.com 66.66666666666667\n",
      "====================center====================\n",
      "http://www.snopes.com 8.333333333333334\n",
      "https://www.realclearpolitics.com 92.85714285714286\n",
      "https://www.circa.com 12.5\n",
      "====================right====================\n",
      "https://pjmedia.com 100.0\n",
      "http://www.express.co.uk 36.8421052631579\n",
      "http://opslens.com 100.0\n",
      "http://insider.foxnews.com 27.272727272727273\n",
      "http://www.foxnews.com 50.0\n",
      "http://www.washingtonexaminer.com 57.142857142857146\n",
      "====================left====================\n",
      "https://www.salon.com 100.0\n",
      "http://www.gq.com 60.0\n",
      "====================extreme====================\n",
      "http://www.thegatewaypundit.com 94.44444444444444\n",
      "http://www.trueactivist.com 62.5\n",
      "http://www.dcclothesline.com 85.71428571428571\n",
      "https://bearingarms.com 66.66666666666667\n"
     ]
    }
   ],
   "source": [
    "for bias in url_dict.keys():\n",
    "    print(\"=\"*20 + bias + \"=\"*20)\n",
    "    for url in url_dict[bias]:\n",
    "        print(url, dct[url])"
   ]
  },
  {
   "cell_type": "code",
   "execution_count": null,
   "metadata": {
    "collapsed": true
   },
   "outputs": [],
   "source": []
  }
 ],
 "metadata": {
  "kernelspec": {
   "display_name": "Python 3",
   "language": "python",
   "name": "python3"
  },
  "language_info": {
   "codemirror_mode": {
    "name": "ipython",
    "version": 3
   },
   "file_extension": ".py",
   "mimetype": "text/x-python",
   "name": "python",
   "nbconvert_exporter": "python",
   "pygments_lexer": "ipython3",
   "version": "3.6.2"
  }
 },
 "nbformat": 4,
 "nbformat_minor": 2
}
